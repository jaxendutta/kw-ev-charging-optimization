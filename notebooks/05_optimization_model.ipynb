{
 "cells": [
  {
   "cell_type": "markdown",
   "metadata": {},
   "source": [
    "# Charging Network Enhancement Optimization Model\n",
    "\n",
    "This notebook implements and solves the mixed-integer linear programming model for optimizing the Kitchener-Waterloo charging network enhancement through:\n",
    "\n",
    "1. Model Implementation\n",
    "   - Decision variable definition\n",
    "   - Constraint formulation\n",
    "   - Objective function development\n",
    "   - Gurobi model construction\n",
    "\n",
    "2. Scenario Analysis\n",
    "   - Base case optimization\n",
    "   - Budget sensitivity analysis\n",
    "   - Coverage requirement variations\n",
    "   - Phasing strategy options\n",
    "\n",
    "3. Solution Analysis\n",
    "   - Result visualization\n",
    "   - Cost-benefit analysis\n",
    "   - Coverage improvement assessment\n",
    "   - Implementation recommendations\n",
    "\n",
    "4. Implementation Planning\n",
    "   - Phased rollout strategy\n",
    "   - Priority assignment\n",
    "   - Resource allocation\n",
    "   - Timeline development\n",
    "\n",
    "This notebook provides the final optimization model and actionable recommendations for network enhancement."
   ]
  },
  {
   "cell_type": "markdown",
   "metadata": {},
   "source": [
    "## 1. Data Loading and Preprocessing\n",
    "\n",
    "```python\n",
    "# Station data\n",
    "station_data = {\n",
    "    'locations': [...],      # Existing station locations\n",
    "    'types': [...],         # Current charger types\n",
    "    'capacities': [...],    # Current number of ports\n",
    "    'upgradeable': [...]    # Binary upgrade possibility\n",
    "}\n",
    "\n",
    "# Demand data\n",
    "demand_data = {\n",
    "    'population': [...],    # Population by area\n",
    "    'ev_ownership': [...],  # EV ownership rates\n",
    "    'growth_rate': [...]    # Projected EV adoption growth\n",
    "}\n",
    "\n",
    "# Cost parameters\n",
    "cost_params = {\n",
    "    'upgrade_costs': [...],  # L2 to L3 conversion costs\n",
    "    'port_costs': [...],     # Additional port costs\n",
    "    'operating_costs': [...] # Annual operating costs by type\n",
    "}\n",
    "```"
   ]
  },
  {
   "cell_type": "markdown",
   "metadata": {},
   "source": [
    "## 2. Decision Variables\n",
    "\n",
    "```python\n",
    "# Primary Variables\n",
    "x[i,j] = Binary variable for upgrading station i to type j\n",
    "y[i] = Binary variable for adding new station at location i\n",
    "z[i] = Binary variable for removing station i\n",
    "p[i] = Integer variable for additional ports at location i\n",
    "\n",
    "# Coverage Variables\n",
    "c[i,j] = Binary variable for area i covered by station j\n",
    "u[i] = Binary variable for area i being underserved\n",
    "```"
   ]
  },
  {
   "cell_type": "markdown",
   "metadata": {},
   "source": [
    "## 3. Constraints\n",
    "\n",
    "### 3.1 Budget Constraints\n",
    "```python\n",
    "# Total cost constraint\n",
    "sum(upgrade_costs[i] * x[i,j]) + sum(port_costs * p[i]) <= budget\n",
    "\n",
    "# Maximum upgrades per period\n",
    "sum(x[i,j]) <= max_upgrades_per_period\n",
    "```\n",
    "\n",
    "### 3.2 Coverage Constraints\n",
    "```python\n",
    "# Minimum population coverage\n",
    "sum(population[i] * c[i,j]) >= min_coverage * total_population\n",
    "\n",
    "# Maximum distance between L3 chargers\n",
    "distance[i,j] * (x[i,'L3'] + x[j,'L3']) <= max_l3_distance\n",
    "```\n",
    "\n",
    "### 3.3 Infrastructure Constraints\n",
    "```python\n",
    "# Grid capacity\n",
    "sum(power_demand[j] * x[i,j]) <= grid_capacity[i]\n",
    "\n",
    "# Minimum ports per area\n",
    "sum(p[i] for i in area[j]) >= min_ports[j]\n",
    "```\n",
    "\n",
    "### 3.4 Logical Constraints\n",
    "```python\n",
    "# Can't upgrade and remove same station\n",
    "x[i,j] + z[i] <= 1\n",
    "\n",
    "# Must be upgradeable for L2 to L3\n",
    "x[i,'L3'] <= upgradeable[i]\n",
    "```"
   ]
  },
  {
   "cell_type": "markdown",
   "metadata": {},
   "source": [
    "## 4. Objective Function\n",
    "\n",
    "```python\n",
    "Maximize:\n",
    "    # Coverage benefit\n",
    "    w1 * sum(population[i] * ev_ownership[i] * c[i,j])\n",
    "    \n",
    "    # Infrastructure efficiency\n",
    "    - w2 * sum(operating_costs[j] * x[i,j])\n",
    "    \n",
    "    # Upgrade benefit\n",
    "    + w3 * sum(benefit_score[i] * x[i,'L3'])\n",
    "    \n",
    "    # Underservice penalty\n",
    "    - w4 * sum(penalty[i] * u[i])\n",
    "```"
   ]
  },
  {
   "cell_type": "markdown",
   "metadata": {},
   "source": [
    "## 5. Model Implementation\n",
    "\n",
    "```python\n",
    "def build_optimization_model(data, params):\n",
    "    \"\"\"Build the Gurobi optimization model.\"\"\"\n",
    "    model = gp.Model(\"charging_network_enhancement\")\n",
    "    \n",
    "    # Add variables\n",
    "    x = model.addVars(...)  # Upgrade decisions\n",
    "    y = model.addVars(...)  # New station decisions\n",
    "    z = model.addVars(...)  # Removal decisions\n",
    "    p = model.addVars(...)  # Port additions\n",
    "    \n",
    "    # Add constraints\n",
    "    model.addConstrs(...)  # Budget constraints\n",
    "    model.addConstrs(...)  # Coverage constraints\n",
    "    model.addConstrs(...)  # Infrastructure constraints\n",
    "    \n",
    "    # Set objective\n",
    "    model.setObjective(...)\n",
    "    \n",
    "    return model\n",
    "```"
   ]
  },
  {
   "cell_type": "markdown",
   "metadata": {},
   "source": [
    "## 6. Solution Analysis\n",
    "\n",
    "```python\n",
    "def analyze_solution(model, data):\n",
    "    \"\"\"Analyze optimization results.\"\"\"\n",
    "    results = {\n",
    "        'upgrades': get_upgrade_decisions(model),\n",
    "        'coverage': calculate_coverage_improvement(model),\n",
    "        'costs': calculate_total_costs(model),\n",
    "        'phasing': generate_implementation_phases(model)\n",
    "    }\n",
    "    return results\n",
    "```"
   ]
  },
  {
   "cell_type": "markdown",
   "metadata": {},
   "source": [
    "## 7. Sensitivity Analysis\n",
    "\n",
    "```python\n",
    "def run_sensitivity_analysis(model, params):\n",
    "    \"\"\"Run sensitivity analysis on key parameters.\"\"\"\n",
    "    scenarios = {\n",
    "        'budget': test_budget_sensitivity(),\n",
    "        'coverage': test_coverage_requirements(),\n",
    "        'costs': test_cost_variations()\n",
    "    }\n",
    "    return scenarios\n",
    "```"
   ]
  },
  {
   "cell_type": "markdown",
   "metadata": {
    "vscode": {
     "languageId": "plaintext"
    }
   },
   "source": [
    "## 8. Implementation Planning\n",
    "\n",
    "```python\n",
    "def create_implementation_plan(results):\n",
    "    \"\"\"Generate phased implementation plan.\"\"\"\n",
    "    plan = {\n",
    "        'phase1': identify_immediate_upgrades(),\n",
    "        'phase2': plan_medium_term_changes(),\n",
    "        'phase3': outline_long_term_strategy()\n",
    "    }\n",
    "    return plan\n",
    "```"
   ]
  },
  {
   "cell_type": "code",
   "execution_count": 1,
   "metadata": {},
   "outputs": [
    {
     "name": "stdout",
     "output_type": "stream",
     "text": [
      "Loading optimization inputs...\n"
     ]
    }
   ],
   "source": [
    "# Setup and imports\n",
    "import pandas as pd\n",
    "import numpy as np\n",
    "import gurobipy as gp\n",
    "from gurobipy import GRB\n",
    "import json\n",
    "import matplotlib.pyplot as plt\n",
    "import seaborn as sns\n",
    "from src.data.utils import *\n",
    "\n",
    "# Load optimization inputs\n",
    "print(\"Loading optimization inputs...\")\n",
    "opt_data = load_latest_file(DATA_PATHS['optimization_inputs'], 'json')"
   ]
  },
  {
   "cell_type": "markdown",
   "metadata": {},
   "source": [
    "## 1. Model Parameters and Sets"
   ]
  },
  {
   "cell_type": "code",
   "execution_count": 2,
   "metadata": {},
   "outputs": [],
   "source": [
    "def prepare_model_parameters():\n",
    "    \"\"\"Prepare parameters for optimization model.\"\"\"\n",
    "    stations = pd.DataFrame(opt_data['stations'])\n",
    "    \n",
    "    # Station sets\n",
    "    station_sets = {\n",
    "        'all_stations': stations.index.tolist(),\n",
    "        'upgradeable': stations[stations['can_upgrade']].index.tolist(),\n",
    "        'l2_stations': stations[stations['current_type'] == 'Level 2'].index.tolist(),\n",
    "        'l3_stations': stations[stations['current_type'] == 'Level 3'].index.tolist()\n",
    "    }\n",
    "    \n",
    "    # Cost parameters\n",
    "    costs = {\n",
    "        'upgrade': 50000,     # Cost to upgrade L2 to L3\n",
    "        'new_port_l2': 5000,  # Cost per new L2 port\n",
    "        'new_port_l3': 15000, # Cost per new L3 port\n",
    "        'operating_l2': 2000, # Annual operating cost L2\n",
    "        'operating_l3': 5000  # Annual operating cost L3\n",
    "    }\n",
    "    \n",
    "    # Coverage parameters\n",
    "    coverage = {\n",
    "        'target_l3': opt_data['coverage']['target_l3'],\n",
    "        'max_distance': opt_data['coverage']['max_distance'],\n",
    "        'current_l3': opt_data['coverage']['current_l3']\n",
    "    }\n",
    "    \n",
    "    return station_sets, costs, coverage"
   ]
  },
  {
   "cell_type": "markdown",
   "metadata": {},
   "source": [
    "## 2. Decision Variables"
   ]
  },
  {
   "cell_type": "code",
   "execution_count": 3,
   "metadata": {},
   "outputs": [],
   "source": [
    "def create_model_variables(model, station_sets):\n",
    "    \"\"\"Create optimization model variables.\"\"\"\n",
    "    vars = {}\n",
    "    \n",
    "    # Upgrade decisions (binary)\n",
    "    vars['upgrade'] = model.addVars(\n",
    "        station_sets['upgradeable'],\n",
    "        vtype=GRB.BINARY,\n",
    "        name=\"upgrade\"\n",
    "    )\n",
    "    \n",
    "    # Additional ports (integer)\n",
    "    vars['new_ports'] = model.addVars(\n",
    "        station_sets['all_stations'],\n",
    "        vtype=GRB.INTEGER,\n",
    "        name=\"new_ports\"\n",
    "    )\n",
    "    \n",
    "    return vars"
   ]
  },
  {
   "cell_type": "markdown",
   "metadata": {},
   "source": [
    "## 3. Constraints"
   ]
  },
  {
   "cell_type": "code",
   "execution_count": 4,
   "metadata": {},
   "outputs": [],
   "source": [
    "def add_model_constraints(model, vars, station_sets, params):\n",
    "    \"\"\"Add constraints to optimization model.\"\"\"\n",
    "    \n",
    "    # Budget constraint\n",
    "    model.addConstr(\n",
    "        (gp.quicksum(params['costs']['upgrade'] * vars['upgrade'][i] \n",
    "                     for i in station_sets['upgradeable']) +\n",
    "         gp.quicksum(params['costs']['new_port_l2'] * vars['new_ports'][i] \n",
    "                     for i in station_sets['l2_stations']) +\n",
    "         gp.quicksum(params['costs']['new_port_l3'] * vars['new_ports'][i]\n",
    "                     for i in station_sets['l3_stations']))\n",
    "        <= params['budget'],\n",
    "        name=\"budget\"\n",
    "    )\n",
    "    \n",
    "    # Coverage constraints, capacity constraints, etc.\n",
    "    # [Additional constraints...]"
   ]
  },
  {
   "cell_type": "markdown",
   "metadata": {},
   "source": [
    "## 4. Objective Function"
   ]
  },
  {
   "cell_type": "code",
   "execution_count": 5,
   "metadata": {},
   "outputs": [],
   "source": [
    "def set_objective_function(model, vars, params):\n",
    "    \"\"\"Set the multi-objective optimization function.\"\"\"\n",
    "    \n",
    "    # Coverage benefit\n",
    "    coverage_benefit = gp.quicksum(...)\n",
    "    \n",
    "    # Operating costs\n",
    "    operating_costs = gp.quicksum(...)\n",
    "    \n",
    "    # Set objective\n",
    "    model.setObjective(\n",
    "        coverage_benefit - operating_costs,\n",
    "        sense=GRB.MAXIMIZE\n",
    "    )"
   ]
  },
  {
   "cell_type": "markdown",
   "metadata": {},
   "source": [
    "## 5. Model Solution"
   ]
  },
  {
   "cell_type": "code",
   "execution_count": 6,
   "metadata": {},
   "outputs": [],
   "source": [
    "def solve_optimization_model():\n",
    "    \"\"\"Create and solve the optimization model.\"\"\"\n",
    "    \n",
    "    # Create model\n",
    "    model = gp.Model(\"charging_network_enhancement\")\n",
    "    \n",
    "    # Prepare parameters\n",
    "    station_sets, costs, coverage = prepare_model_parameters()\n",
    "    \n",
    "    # Create variables\n",
    "    vars = create_model_variables(model, station_sets)\n",
    "    \n",
    "    # Add constraints\n",
    "    add_model_constraints(model, vars, station_sets, params)\n",
    "    \n",
    "    # Set objective\n",
    "    set_objective_function(model, vars, params)\n",
    "    \n",
    "    # Solve\n",
    "    model.optimize()\n",
    "    \n",
    "    return model, vars"
   ]
  },
  {
   "cell_type": "markdown",
   "metadata": {},
   "source": [
    "## 6. Solution Analysis"
   ]
  },
  {
   "cell_type": "code",
   "execution_count": 7,
   "metadata": {},
   "outputs": [],
   "source": [
    "def analyze_solution(model, vars, station_sets):\n",
    "    \"\"\"Analyze optimization results.\"\"\"\n",
    "    if model.Status == GRB.OPTIMAL:\n",
    "        results = {\n",
    "            'upgrades': [i for i in station_sets['upgradeable'] \n",
    "                        if vars['upgrade'][i].X > 0.5],\n",
    "            'new_ports': {i: vars['new_ports'][i].X \n",
    "                         for i in station_sets['all_stations']\n",
    "                         if vars['new_ports'][i].X > 0}\n",
    "        }\n",
    "        \n",
    "        return results\n",
    "    else:\n",
    "        print(\"No optimal solution found.\")\n",
    "        return None"
   ]
  },
  {
   "cell_type": "markdown",
   "metadata": {},
   "source": [
    "## 7. Implementation Planning"
   ]
  },
  {
   "cell_type": "code",
   "execution_count": 8,
   "metadata": {},
   "outputs": [],
   "source": [
    "def create_implementation_plan(results):\n",
    "    \"\"\"Create phased implementation plan from optimization results.\"\"\"\n",
    "    # [Implementation planning code...]"
   ]
  }
 ],
 "metadata": {
  "kernelspec": {
   "display_name": "venv",
   "language": "python",
   "name": "python3"
  },
  "language_info": {
   "codemirror_mode": {
    "name": "ipython",
    "version": 3
   },
   "file_extension": ".py",
   "mimetype": "text/x-python",
   "name": "python",
   "nbconvert_exporter": "python",
   "pygments_lexer": "ipython3",
   "version": "3.12.7"
  }
 },
 "nbformat": 4,
 "nbformat_minor": 2
}
